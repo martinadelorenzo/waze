{
  "nbformat": 4,
  "nbformat_minor": 0,
  "metadata": {
    "colab": {
      "provenance": [],
      "authorship_tag": "ABX9TyM/u1BaZ0diRTp6z48QRuJH"
    },
    "kernelspec": {
      "name": "python3",
      "display_name": "Python 3"
    },
    "language_info": {
      "name": "python"
    }
  },
  "cells": [
    {
      "cell_type": "markdown",
      "source": [
        "#Waze app: user churn analysis and prediction model\n",
        "Part 3: hypothesis testing"
      ],
      "metadata": {
        "id": "a1tlosjL7Z-2"
      }
    },
    {
      "cell_type": "markdown",
      "source": [
        "Research question:\n",
        "\n",
        "*“Do drivers who open the application using an iPhone have the same number of drives on average as drivers who use Android devices?”*\n"
      ],
      "metadata": {
        "id": "Y53dsux176rJ"
      }
    },
    {
      "cell_type": "code",
      "source": [
        "# import packages and libraries\n",
        "\n",
        "import pandas as pd\n",
        "from scipy import stats"
      ],
      "metadata": {
        "id": "kEGy7jib7jPf"
      },
      "execution_count": 1,
      "outputs": []
    },
    {
      "cell_type": "code",
      "source": [
        "# load dataset into a dataframe\n",
        "df = pd.read_csv(\"waze_dataset.csv\")"
      ],
      "metadata": {
        "id": "OCNj4ZhsNUyk"
      },
      "execution_count": 2,
      "outputs": []
    },
    {
      "cell_type": "markdown",
      "source": [
        "Computing **descriptive statistics** will help to quickly compare the average amount of drives by device type.\n",
        "\n",
        "In the dataset, device is a categorical variable with the labels iPhone and Android. We need to turn each label into an integer.\n",
        "\n",
        "The following code assigns a 1 for an iPhone user and a 2 for Android. It assigns this label to a new variable *device_type* so that we don't overwrite the original data."
      ],
      "metadata": {
        "id": "UwawmX34No7E"
      }
    },
    {
      "cell_type": "code",
      "source": [
        "# create a dictionary that contains the class labels for keys and the values to convert them to as values\n",
        "map_dictionary = {\"Android\": 2, \"iPhone\": 1}\n",
        "\n",
        "# create a copy of the \"device\" column\n",
        "df[\"device_type\"] = df[\"device\"]\n",
        "\n",
        "# map the new column to the dictionary\n",
        "# use the map() method on the device_type series and pass map_dictionary as its argument\n",
        "df[\"device_type\"] = df[\"device_type\"].map(map_dictionary)\n",
        "\n",
        "''' when you pass a dictionary to the Series.map() method, it will replace\n",
        "the data in the series where that data matches the dictionary’s keys.\n",
        "The values that get imputed are the values of the dictionary'''\n",
        "\n",
        "df[\"device_type\"].head()"
      ],
      "metadata": {
        "colab": {
          "base_uri": "https://localhost:8080/"
        },
        "id": "PtG89CEmOLU6",
        "outputId": "010f0a7e-164e-409a-ae9b-c48ae28842e5"
      },
      "execution_count": 3,
      "outputs": [
        {
          "output_type": "execute_result",
          "data": {
            "text/plain": [
              "0    2\n",
              "1    1\n",
              "2    2\n",
              "3    1\n",
              "4    2\n",
              "Name: device_type, dtype: int64"
            ]
          },
          "metadata": {},
          "execution_count": 3
        }
      ]
    },
    {
      "cell_type": "code",
      "source": [
        "df[\"device\"].head()"
      ],
      "metadata": {
        "colab": {
          "base_uri": "https://localhost:8080/"
        },
        "id": "5EZbApZ2NuhF",
        "outputId": "5d964345-61c7-4070-e61d-66304652dec6"
      },
      "execution_count": 4,
      "outputs": [
        {
          "output_type": "execute_result",
          "data": {
            "text/plain": [
              "0    Android\n",
              "1     iPhone\n",
              "2    Android\n",
              "3     iPhone\n",
              "4    Android\n",
              "Name: device, dtype: object"
            ]
          },
          "metadata": {},
          "execution_count": 4
        }
      ]
    },
    {
      "cell_type": "code",
      "source": [
        "# calculate the average number of drives for each device type\n",
        "df.groupby(\"device_type\")[\"drives\"].mean()"
      ],
      "metadata": {
        "colab": {
          "base_uri": "https://localhost:8080/"
        },
        "id": "HMj-fqyWQFMQ",
        "outputId": "9c53a69a-7ce9-4078-c36d-acb69a714b9e"
      },
      "execution_count": 6,
      "outputs": [
        {
          "output_type": "execute_result",
          "data": {
            "text/plain": [
              "device_type\n",
              "1    67.859078\n",
              "2    66.231838\n",
              "Name: drives, dtype: float64"
            ]
          },
          "metadata": {},
          "execution_count": 6
        }
      ]
    },
    {
      "cell_type": "markdown",
      "source": [
        "The above result shows that the number of drives on average is higher for iPhone users.\n",
        "\n",
        "To confirm whether this difference is statistically significant, we can conduct a hypothesis test."
      ],
      "metadata": {
        "id": "T-G6IYOvQJnf"
      }
    },
    {
      "cell_type": "markdown",
      "source": [
        "### Hypothesis testing"
      ],
      "metadata": {
        "id": "wrMvKGz4Pu1m"
      }
    },
    {
      "cell_type": "markdown",
      "source": [
        "We are going to perform a **two-sample t-test** since we have two independent samples: iPhone users and Android users.\n",
        "\n",
        "The steps will be:\n",
        "\n",
        "1.   State the **null hypothesis (H0)** and the **alternative hypothesis (HA)**\n",
        "2.   Choose a **signficance level** (5%)\n",
        "3. Find the **p-value**\n",
        "4. Reject or fail to reject the null hypothesis"
      ],
      "metadata": {
        "id": "St0lO9JcTTwC"
      }
    },
    {
      "cell_type": "markdown",
      "source": [
        "**null hypothesis (H0):** there is no difference in the average number of drives between iPhone and Android users.\n",
        "\n",
        "**alternative hypothesis (HA):** there is a difference in the average number of drives between iPhone and Android users.\n",
        "\n"
      ],
      "metadata": {
        "id": "NlUOUoF3TayW"
      }
    },
    {
      "cell_type": "code",
      "source": [
        "# isolate the \"drives\" column for both devices\n",
        "iPhone = df[df[\"device_type\"] == 1][\"drives\"]\n",
        "Android = df[df[\"device_type\"] == 2][\"drives\"]\n",
        "\n",
        "# perform the t-test\n",
        "stats.ttest_ind(a=iPhone, b=Android, equal_var=False)"
      ],
      "metadata": {
        "id": "Ts7jfKTeT58q",
        "colab": {
          "base_uri": "https://localhost:8080/"
        },
        "collapsed": true,
        "outputId": "8337038f-ccfd-4f1c-8370-5fdec4b9a0dc"
      },
      "execution_count": 12,
      "outputs": [
        {
          "output_type": "execute_result",
          "data": {
            "text/plain": [
              "TtestResult(statistic=1.463523206885235, pvalue=0.143351972680206, df=11345.066049381952)"
            ]
          },
          "metadata": {},
          "execution_count": 12
        }
      ]
    },
    {
      "cell_type": "markdown",
      "source": [
        "The default for the argument equal_var is True, which assumes population\n",
        "variances are equal. However, there is no strong reason to assume that the\n",
        "two groups have the same variance. By setting equal_var to False, we are\n",
        "performing the unequal variances t-test (Welch’s t-test)."
      ],
      "metadata": {
        "id": "cTG18_xXS1_E"
      }
    },
    {
      "cell_type": "markdown",
      "source": [
        "From the above result, the p-value (14%) is larger than our significance level (5%). Therefore, we fail to reject the null hypothesis and can conclude that there is not a statistically significant difference in the average number of drives between iPhone and Android drivers."
      ],
      "metadata": {
        "id": "RPo3xoSfT9FW"
      }
    }
  ]
}